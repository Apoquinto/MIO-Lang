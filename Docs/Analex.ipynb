{
 "cells": [
  {
   "cell_type": "markdown",
   "metadata": {},
   "source": [
    "### Analex\n",
    "En este caso, como no podemos leer el archivo en un jupyter, este solo sirve para comprobar que funcione bien la identificacion de tokens por parte de nuestras expresiones regulares."
   ]
  },
  {
   "cell_type": "code",
   "execution_count": 36,
   "metadata": {},
   "outputs": [],
   "source": [
    "from io import *\n",
    "import re\n",
    "\n",
    "class Analex:\n",
    "    def __init__(self):    \n",
    "        self.dir = ''\n",
    "        self.source = ''\n",
    "        self.sourceCode = []\n",
    "        self.tokens = []\n",
    "        self.IDcount = 0\n",
    "        self.TXTcount = 0\n",
    "        self.reserveds = ['PROGRAMA', 'FINPROG', 'SI', 'ENTONCES', 'SINO', 'FINSI', 'REPITE', 'VECES', 'FINREP', 'IMPRIME', 'LEE']\n",
    "        self.relationals = ['>', '<', '==', '=']\n",
    "        self.aritmetics = ['+', '-', '*', '/']\n",
    "        self.numerics = []\n",
    "        self.ids = []\n",
    "        self.texts = []\n",
    "\n",
    "    def isSyntax(self, token):\n",
    "        return (token in self.reserveds or \n",
    "                token in self.aritmetics or \n",
    "                token in self.relationals)\n",
    "\n",
    "    def isNumeric(self, token):\n",
    "        flag = False\n",
    "        if(re.fullmatch('[0-8]+', token)):\n",
    "            flag = True\n",
    "        return flag\n",
    "    \n",
    "    def isID(self, token):\n",
    "        aux = token\n",
    "        flag = re.fullmatch('[a-zA-Z][a-zA-Z0-9]+', aux)\n",
    "        return flag\n",
    "    \n",
    "    def isText(self, token):\n",
    "        flag = re.fullmatch('\"[a-zA-Z0-9\\s]+\"', token)\n",
    "        return flag\n",
    "\n",
    "    # retorna el valor decimal de un valor octal\n",
    "    def octal_a_decimal(self, octal):\n",
    "        decimal = 0\n",
    "        posicion = 0\n",
    "        # Invertir octal, porque debemos recorrerlo de derecha a izquierda\n",
    "        # pero for in empieza de izquierda a derecha\n",
    "        octal = octal[::-1]\n",
    "        for digito in octal:\n",
    "            valor_entero = int(digito)\n",
    "            numero_elevado = int(8 ** posicion)\n",
    "            equivalencia = int(numero_elevado * valor_entero)\n",
    "            decimal += equivalencia\n",
    "            posicion += 1\n",
    "        return decimal\n",
    "    \n",
    "analex = Analex()"
   ]
  },
  {
   "cell_type": "code",
   "execution_count": 37,
   "metadata": {},
   "outputs": [],
   "source": [
    "test = ['\"Buenos dias\"','PROGRAM', 'FINPROGRAM', '\"HOLA\"','ENTONCES','SI', '321', '812', 'SINO', 'PROGRAMA', 'resultado','\"BUENAS\"','d23','1239']"
   ]
  },
  {
   "cell_type": "code",
   "execution_count": 38,
   "metadata": {},
   "outputs": [
    {
     "name": "stdout",
     "output_type": "stream",
     "text": [
      "ENTONCES\n",
      "SI\n",
      "SINO\n",
      "PROGRAMA\n"
     ]
    }
   ],
   "source": [
    "# Test de Syntax\n",
    "\n",
    "for token in test:\n",
    "    if(analex.isSyntax(token)):\n",
    "        print(token)"
   ]
  },
  {
   "cell_type": "code",
   "execution_count": 39,
   "metadata": {},
   "outputs": [
    {
     "name": "stdout",
     "output_type": "stream",
     "text": [
      "321\n",
      "812\n"
     ]
    }
   ],
   "source": [
    "# Test de numers\n",
    "\n",
    "for token in test:\n",
    "    if(analex.isNumeric(token)):\n",
    "        print(token)"
   ]
  },
  {
   "cell_type": "code",
   "execution_count": 42,
   "metadata": {},
   "outputs": [
    {
     "name": "stdout",
     "output_type": "stream",
     "text": [
      "\"Buenos dias\"\n",
      "\"HOLA\"\n",
      "\"BUENAS\"\n"
     ]
    }
   ],
   "source": [
    "# Test de textos\n",
    "\n",
    "for token in test:\n",
    "    if(analex.isText(token)):\n",
    "        print(token)"
   ]
  },
  {
   "cell_type": "code",
   "execution_count": 43,
   "metadata": {},
   "outputs": [
    {
     "name": "stdout",
     "output_type": "stream",
     "text": [
      "PROGRAM\n",
      "FINPROGRAM\n",
      "ENTONCES\n",
      "SI\n",
      "SINO\n",
      "PROGRAMA\n",
      "resultado\n",
      "d23\n"
     ]
    }
   ],
   "source": [
    "# Test de IDs\n",
    "\n",
    "for token in test:\n",
    "    if(analex.isID(token)):\n",
    "        print(token)\n",
    "        \n",
    "# En este caso como se esta haciendo la evaluacion por separado, agarra tambien las syntax, pero\n",
    "# en la implementacion primero tiene que pasar la prueba de que son syntax y si no son sintax se \n",
    "# evalua como ID, ahorrandonos operaciones."
   ]
  },
  {
   "cell_type": "code",
   "execution_count": 49,
   "metadata": {},
   "outputs": [
    {
     "name": "stdout",
     "output_type": "stream",
     "text": [
      "dict_keys(['[id]ID)'])\n"
     ]
    }
   ],
   "source": [
    "ids = {}\n",
    "ids[\"[id]ID)\"] = \"resultado\"\n",
    "print(ids.keys())"
   ]
  },
  {
   "cell_type": "code",
   "execution_count": null,
   "metadata": {},
   "outputs": [],
   "source": []
  },
  {
   "cell_type": "code",
   "execution_count": null,
   "metadata": {},
   "outputs": [],
   "source": []
  }
 ],
 "metadata": {
  "kernelspec": {
   "display_name": "Python 3",
   "language": "python",
   "name": "python3"
  },
  "language_info": {
   "codemirror_mode": {
    "name": "ipython",
    "version": 3
   },
   "file_extension": ".py",
   "mimetype": "text/x-python",
   "name": "python",
   "nbconvert_exporter": "python",
   "pygments_lexer": "ipython3",
   "version": "3.8.5"
  }
 },
 "nbformat": 4,
 "nbformat_minor": 4
}
